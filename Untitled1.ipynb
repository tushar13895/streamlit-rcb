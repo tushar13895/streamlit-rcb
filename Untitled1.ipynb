{
 "cells": [
  {
   "cell_type": "code",
   "execution_count": 1,
   "id": "c75568d1",
   "metadata": {},
   "outputs": [
    {
     "name": "stderr",
     "output_type": "stream",
     "text": [
      "2022-06-12 12:24:42.738 \n",
      "  \u001b[33m\u001b[1mWarning:\u001b[0m to view this Streamlit app on a browser, run it with the following\n",
      "  command:\n",
      "\n",
      "    streamlit run /Users/tushar13895/opt/anaconda3/lib/python3.8/site-packages/ipykernel_launcher.py [ARGUMENTS]\n"
     ]
    }
   ],
   "source": [
    "from pandas.core.base import DataError\n",
    "from datetime  import date\n",
    "from datetime import timedelta\n",
    "from datetime import datetime\n",
    "from plotly import graph_objs as go\n",
    "\n",
    "\n",
    "import pandas as pd\n",
    "import numpy as np\n",
    "import streamlit as st\n",
    "import time\n",
    "import base64\n",
    "\n",
    "#Set the page content to cover entire screen\n",
    "st.set_page_config(layout=\"wide\")\n",
    "\n",
    "\n",
    "\n",
    "#Function to load the title page\n",
    "def title():\n",
    "    st.markdown(\"<h1 style = 'color:Black; background-color:White; text-align:center; opacity:0.6'>  Stock Predictor Application </h1>\",unsafe_allow_html=True)\n",
    "    main_bg = \"./RCB-1200x801.webp\"\n",
    "    main_bg_ext = \"jpeg\"\n",
    "    st.markdown(\n",
    "    f\"\"\"\n",
    "    <style>\n",
    "    .reportview-container {{\n",
    "        background: url(data:image/{main_bg_ext};base64,{base64.b64encode(open(main_bg, \"rb\").read()).decode()});\n",
    "        opacity: 0.9\n",
    "    }}\n",
    "    </style>\n",
    "    \"\"\",\n",
    "    unsafe_allow_html=True\n",
    ")\n",
    "\n",
    "#main function\n",
    "if __name__ == \"__main__\":\n",
    "\n",
    "    #sidebar for menu\n",
    "    with st.sidebar:\n",
    "        menu = st.selectbox(\"Menu Options\",('Home','Batsman Analysis','Bowler Analysis','Team Analysis')) \n",
    "        \n",
    "\n",
    "    #calling all defined functions based on user input of menu\n",
    "    if(menu == \"Home\"):\n",
    "        title()"
   ]
  },
  {
   "cell_type": "code",
   "execution_count": null,
   "id": "b18d7c2b",
   "metadata": {},
   "outputs": [],
   "source": []
  }
 ],
 "metadata": {
  "kernelspec": {
   "display_name": "Python 3",
   "language": "python",
   "name": "python3"
  },
  "language_info": {
   "codemirror_mode": {
    "name": "ipython",
    "version": 3
   },
   "file_extension": ".py",
   "mimetype": "text/x-python",
   "name": "python",
   "nbconvert_exporter": "python",
   "pygments_lexer": "ipython3",
   "version": "3.8.8"
  }
 },
 "nbformat": 4,
 "nbformat_minor": 5
}
